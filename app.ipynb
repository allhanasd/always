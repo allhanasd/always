{
 "cells": [
  {
   "cell_type": "code",
   "execution_count": 26,
   "metadata": {},
   "outputs": [],
   "source": [
    "a = int(input())\n",
    "if 100 <= a and 90 >= a:\n",
    "    print(\"A\")\n",
    "\n",
    "elif 80 <= a and 89 >= a:\n",
    "  print(\"B\")\n",
    "  \n",
    "elif 70 <= a and 79 >= a:\n",
    "    print(\"C\")\n",
    "\n",
    "elif 60 <= a and 69 >= a:\n",
    "    print(\"D\")\n",
    "\n",
    "elif 60 > a:\n",
    "    print(\"F\")"
   ]
  }
 ],
 "metadata": {
  "kernelspec": {
   "display_name": "Python 3",
   "language": "python",
   "name": "python3"
  },
  "language_info": {
   "codemirror_mode": {
    "name": "ipython",
    "version": 3
   },
   "file_extension": ".py",
   "mimetype": "text/x-python",
   "name": "python",
   "nbconvert_exporter": "python",
   "pygments_lexer": "ipython3",
   "version": "3.10.4"
  },
  "orig_nbformat": 4
 },
 "nbformat": 4,
 "nbformat_minor": 2
}
